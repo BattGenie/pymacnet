{
 "cells": [
  {
   "cell_type": "markdown",
   "metadata": {},
   "source": [
    "# MaccorSpoofer Demo\n",
    "\n",
    "This file contains some usage examples for the maccorspoofer module.\n",
    "\n",
    "The maccorspoofer module is responsible for spoofing a Maccor Battery Cycler. \n",
    "\n",
    "The mock data in this file is used for testing and development purposes. It includes a list of data points that can be used to simulate different scenarios and test the functionality of the pymacnet module.\n",
    "\n",
    "```\n",
    "Please note that this file should not be used in a production environment. It is intended for testing and development purposes only.\n",
    "\n"
   ]
  },
  {
   "cell_type": "code",
   "execution_count": 13,
   "metadata": {},
   "outputs": [],
   "source": [
    "# Import the necessary modules\n",
    "import random\n",
    "import pymacnet\n",
    "import pymacnet.maccorspoofer"
   ]
  },
  {
   "cell_type": "code",
   "execution_count": 14,
   "metadata": {},
   "outputs": [],
   "source": [
    "# Configuration for the MaccorSpoofer\n",
    "maccorspoofer_config = {\n",
    "    \"server_ip\": \"127.0.0.1\",  # The IP address to host on.\n",
    "    \"json_port\": 1234,  # The JSON communication port.\n",
    "    \"tcp_port\": 5678,  # The TCP communication port.\n",
    "    \"num_channels\": 128  # The number of channels on our fake Maccor cycler.\n",
    "}\n",
    "\n",
    "# Create an instance of the MaccorSpoofer with the given configuration\n",
    "maccor_spoofer = pymacnet.maccorspoofer.MaccorSpoofer(maccorspoofer_config)\n",
    "\n",
    "# Start the MaccorSpoofer\n",
    "maccor_spoofer.start()"
   ]
  },
  {
   "cell_type": "code",
   "execution_count": 15,
   "metadata": {},
   "outputs": [],
   "source": [
    "channel_interface_config_channel_2 = {\n",
    "    'server_ip': maccorspoofer_config['server_ip'],\n",
    "    'json_msg_port': maccorspoofer_config['json_port'],\n",
    "    'bin_msg_port': maccorspoofer_config['tcp_port'],\n",
    "    'msg_buffer_size_bytes': 4096,\n",
    "    'channel': 2,                               \n",
    "    'test_name': 'pymacnet_procedure_control', \n",
    "    'test_procedure': 'test_procedure_1',\n",
    "    'c_rate_ah': 1,\n",
    "    'v_max_safety_limit_v': 4.2,\n",
    "    'v_min_safety_limit_v': 2.5,\n",
    "    'i_max_safety_limit_a': 2.0,\n",
    "    'i_min_safety_limit_a': -2.0,\n",
    "    \"power_safety_limit_chg_w\": 25,\n",
    "    \"power_safety_limit_dsg_w\": 25,\n",
    "    'v_max_v': 4.2,\n",
    "    'v_min_v': 2.5,\n",
    "    'data_record_time_s': 1,\n",
    "    'data_record_voltage_delta_vbys': 1,\n",
    "    'data_record_current_delta_abys': 1,\n",
    "}\n",
    "channel_2_interface = pymacnet.ChannelInterface(channel_interface_config_channel_2)"
   ]
  },
  {
   "cell_type": "code",
   "execution_count": 16,
   "metadata": {},
   "outputs": [],
   "source": [
    "\n",
    "# Generate random data for channel_1_updated_status\n",
    "num_data_points = 10  # Number of data points to generate\n",
    "channel_2_updated_status = []\n",
    "for _ in range(num_data_points):\n",
    "    voltage = round(random.uniform(2.5, 4.2), 2)\n",
    "    current = round(random.uniform(0.0, 10.0), 2)\n",
    "    cycle = random.randint(1, 100)\n",
    "    data_point = {'Voltage': voltage, 'Current': current, 'Cycle': cycle}\n",
    "    channel_2_updated_status.append(data_point)\n",
    "\n"
   ]
  },
  {
   "cell_type": "code",
   "execution_count": 17,
   "metadata": {},
   "outputs": [
    {
     "data": {
      "text/plain": [
       "[{'Voltage': 4.0, 'Current': 7.57, 'Cycle': 84},\n",
       " {'Voltage': 3.31, 'Current': 6.72, 'Cycle': 28},\n",
       " {'Voltage': 3.74, 'Current': 8.74, 'Cycle': 36},\n",
       " {'Voltage': 2.83, 'Current': 5.2, 'Cycle': 25},\n",
       " {'Voltage': 3.16, 'Current': 5.76, 'Cycle': 67},\n",
       " {'Voltage': 3.9, 'Current': 2.91, 'Cycle': 33},\n",
       " {'Voltage': 3.88, 'Current': 4.87, 'Cycle': 15},\n",
       " {'Voltage': 2.95, 'Current': 7.03, 'Cycle': 8},\n",
       " {'Voltage': 4.12, 'Current': 1.31, 'Cycle': 24},\n",
       " {'Voltage': 3.12, 'Current': 9.7, 'Cycle': 32}]"
      ]
     },
     "execution_count": 17,
     "metadata": {},
     "output_type": "execute_result"
    }
   ],
   "source": [
    "channel_2_updated_status"
   ]
  },
  {
   "cell_type": "code",
   "execution_count": 19,
   "metadata": {},
   "outputs": [
    {
     "name": "stdout",
     "output_type": "stream",
     "text": [
      "{'FClass': 4, 'FNum': 7, 'Chan': 2, 'RF1': 0, 'RF2': 192, 'Stat': 0, 'LastRecNum': 4225, 'Cycle': 84, 'Step': 5, 'TestTime': 2.0, 'StepTime': 1.0, 'Capacity': 0, 'Energy': 0, 'Current': 7.57, 'Voltage': 4.0, 'TesterTime': '2022-10-13T12:32:56'}\n",
      "{'FClass': 4, 'FNum': 7, 'Chan': 2, 'RF1': 0, 'RF2': 192, 'Stat': 0, 'LastRecNum': 4225, 'Cycle': 28, 'Step': 5, 'TestTime': 2.0, 'StepTime': 1.0, 'Capacity': 0, 'Energy': 0, 'Current': 6.72, 'Voltage': 3.31, 'TesterTime': '2022-10-13T12:32:56'}\n",
      "{'FClass': 4, 'FNum': 7, 'Chan': 2, 'RF1': 0, 'RF2': 192, 'Stat': 0, 'LastRecNum': 4225, 'Cycle': 36, 'Step': 5, 'TestTime': 2.0, 'StepTime': 1.0, 'Capacity': 0, 'Energy': 0, 'Current': 8.74, 'Voltage': 3.74, 'TesterTime': '2022-10-13T12:32:56'}\n",
      "{'FClass': 4, 'FNum': 7, 'Chan': 2, 'RF1': 0, 'RF2': 192, 'Stat': 0, 'LastRecNum': 4225, 'Cycle': 25, 'Step': 5, 'TestTime': 2.0, 'StepTime': 1.0, 'Capacity': 0, 'Energy': 0, 'Current': 5.2, 'Voltage': 2.83, 'TesterTime': '2022-10-13T12:32:56'}\n",
      "{'FClass': 4, 'FNum': 7, 'Chan': 2, 'RF1': 0, 'RF2': 192, 'Stat': 0, 'LastRecNum': 4225, 'Cycle': 67, 'Step': 5, 'TestTime': 2.0, 'StepTime': 1.0, 'Capacity': 0, 'Energy': 0, 'Current': 5.76, 'Voltage': 3.16, 'TesterTime': '2022-10-13T12:32:56'}\n",
      "{'FClass': 4, 'FNum': 7, 'Chan': 2, 'RF1': 0, 'RF2': 192, 'Stat': 0, 'LastRecNum': 4225, 'Cycle': 33, 'Step': 5, 'TestTime': 2.0, 'StepTime': 1.0, 'Capacity': 0, 'Energy': 0, 'Current': 2.91, 'Voltage': 3.9, 'TesterTime': '2022-10-13T12:32:56'}\n",
      "{'FClass': 4, 'FNum': 7, 'Chan': 2, 'RF1': 0, 'RF2': 192, 'Stat': 0, 'LastRecNum': 4225, 'Cycle': 15, 'Step': 5, 'TestTime': 2.0, 'StepTime': 1.0, 'Capacity': 0, 'Energy': 0, 'Current': 4.87, 'Voltage': 3.88, 'TesterTime': '2022-10-13T12:32:56'}\n",
      "{'FClass': 4, 'FNum': 7, 'Chan': 2, 'RF1': 0, 'RF2': 192, 'Stat': 0, 'LastRecNum': 4225, 'Cycle': 8, 'Step': 5, 'TestTime': 2.0, 'StepTime': 1.0, 'Capacity': 0, 'Energy': 0, 'Current': 7.03, 'Voltage': 2.95, 'TesterTime': '2022-10-13T12:32:56'}\n",
      "{'FClass': 4, 'FNum': 7, 'Chan': 2, 'RF1': 0, 'RF2': 192, 'Stat': 0, 'LastRecNum': 4225, 'Cycle': 24, 'Step': 5, 'TestTime': 2.0, 'StepTime': 1.0, 'Capacity': 0, 'Energy': 0, 'Current': 1.31, 'Voltage': 4.12, 'TesterTime': '2022-10-13T12:32:56'}\n",
      "{'FClass': 4, 'FNum': 7, 'Chan': 2, 'RF1': 0, 'RF2': 192, 'Stat': 0, 'LastRecNum': 4225, 'Cycle': 32, 'Step': 5, 'TestTime': 2.0, 'StepTime': 1.0, 'Capacity': 0, 'Energy': 0, 'Current': 9.7, 'Voltage': 3.12, 'TesterTime': '2022-10-13T12:32:56'}\n"
     ]
    }
   ],
   "source": [
    "# Extend the reading using read_channel_status in a loop\n",
    "for data_point in channel_2_updated_status:\n",
    "    # print(\"Data point: \" + str(data_point)  + \"\\n  Updating channel status...  \")\n",
    "    result = maccor_spoofer.update_channel_status(\n",
    "        channel=(channel_2_interface.get_channel_number() - 1),  # On the server side channels are zero index.\n",
    "        updated_status=data_point\n",
    "    )\n",
    "    # print(\"Success = \" + str(result))\n",
    "    channel_2_status = channel_2_interface.read_channel_status()\n",
    "    print(channel_2_status)"
   ]
  },
  {
   "cell_type": "code",
   "execution_count": 20,
   "metadata": {},
   "outputs": [],
   "source": [
    "channel_interface_config_channel_3 = {\n",
    "    'server_ip': maccorspoofer_config['server_ip'],\n",
    "    'json_msg_port': maccorspoofer_config['json_port'],\n",
    "    'bin_msg_port': maccorspoofer_config['tcp_port'],\n",
    "    'msg_buffer_size_bytes': 4096,\n",
    "    'channel': 3,                               \n",
    "    'test_name': 'pymacnet_procedure_control', \n",
    "    'test_procedure': 'test_procedure_1',\n",
    "    'c_rate_ah': 1,\n",
    "    'v_max_safety_limit_v': 4.2,\n",
    "    'v_min_safety_limit_v': 2.5,\n",
    "    'i_max_safety_limit_a': 2.0,\n",
    "    'i_min_safety_limit_a': -2.0,\n",
    "    \"power_safety_limit_chg_w\": 25,\n",
    "    \"power_safety_limit_dsg_w\": 25,\n",
    "    'v_max_v': 4.2,\n",
    "    'v_min_v': 2.5,\n",
    "    'data_record_time_s': 1,\n",
    "    'data_record_voltage_delta_vbys': 1,\n",
    "    'data_record_current_delta_abys': 1,\n",
    "}\n",
    "channel_3_interface = pymacnet.ChannelInterface(channel_interface_config_channel_3)"
   ]
  },
  {
   "cell_type": "code",
   "execution_count": 21,
   "metadata": {},
   "outputs": [],
   "source": [
    "\n",
    "# Generate random data for channel_1_updated_status\n",
    "num_data_points = 10  # Number of data points to generate\n",
    "channel_3_updated_status = []\n",
    "for _ in range(num_data_points):\n",
    "    voltage = round(random.uniform(2.5, 4.2), 2)\n",
    "    current = round(random.uniform(0.0, 10.0), 2)\n",
    "    cycle = random.randint(1, 100)\n",
    "    step = random.randint(1, 100)\n",
    "    capacity = random.randint(1, 100)\n",
    "    energy = random.randint(1, 100)\n",
    "    data_point = {'Voltage': voltage, 'Current': current, 'Cycle': cycle, 'Step': step, 'Capacity': capacity, 'Energy': energy}\n",
    "    channel_3_updated_status.append(data_point)\n"
   ]
  },
  {
   "cell_type": "code",
   "execution_count": 22,
   "metadata": {},
   "outputs": [
    {
     "data": {
      "text/plain": [
       "{'Voltage': 4.07,\n",
       " 'Current': 1.76,\n",
       " 'Cycle': 56,\n",
       " 'Step': 26,\n",
       " 'Capacity': 27,\n",
       " 'Energy': 45}"
      ]
     },
     "execution_count": 22,
     "metadata": {},
     "output_type": "execute_result"
    }
   ],
   "source": [
    "channel_3_updated_status[0]"
   ]
  },
  {
   "cell_type": "code",
   "execution_count": 24,
   "metadata": {},
   "outputs": [
    {
     "name": "stdout",
     "output_type": "stream",
     "text": [
      "{'FClass': 4, 'FNum': 7, 'Chan': 3, 'RF1': 0, 'RF2': 192, 'Stat': 0, 'LastRecNum': 4225, 'Cycle': 56, 'Step': 26, 'TestTime': 2.0, 'StepTime': 1.0, 'Capacity': 27, 'Energy': 45, 'Current': 1.76, 'Voltage': 4.07, 'TesterTime': '2022-10-13T12:32:56'}\n",
      "{'FClass': 4, 'FNum': 7, 'Chan': 3, 'RF1': 0, 'RF2': 192, 'Stat': 0, 'LastRecNum': 4225, 'Cycle': 67, 'Step': 91, 'TestTime': 2.0, 'StepTime': 1.0, 'Capacity': 69, 'Energy': 48, 'Current': 3.21, 'Voltage': 2.95, 'TesterTime': '2022-10-13T12:32:56'}\n",
      "{'FClass': 4, 'FNum': 7, 'Chan': 3, 'RF1': 0, 'RF2': 192, 'Stat': 0, 'LastRecNum': 4225, 'Cycle': 24, 'Step': 7, 'TestTime': 2.0, 'StepTime': 1.0, 'Capacity': 80, 'Energy': 93, 'Current': 0.24, 'Voltage': 3.77, 'TesterTime': '2022-10-13T12:32:56'}\n",
      "{'FClass': 4, 'FNum': 7, 'Chan': 3, 'RF1': 0, 'RF2': 192, 'Stat': 0, 'LastRecNum': 4225, 'Cycle': 70, 'Step': 17, 'TestTime': 2.0, 'StepTime': 1.0, 'Capacity': 18, 'Energy': 73, 'Current': 9.79, 'Voltage': 2.8, 'TesterTime': '2022-10-13T12:32:56'}\n",
      "{'FClass': 4, 'FNum': 7, 'Chan': 3, 'RF1': 0, 'RF2': 192, 'Stat': 0, 'LastRecNum': 4225, 'Cycle': 22, 'Step': 52, 'TestTime': 2.0, 'StepTime': 1.0, 'Capacity': 48, 'Energy': 27, 'Current': 7.31, 'Voltage': 3.05, 'TesterTime': '2022-10-13T12:32:56'}\n",
      "{'FClass': 4, 'FNum': 7, 'Chan': 3, 'RF1': 0, 'RF2': 192, 'Stat': 0, 'LastRecNum': 4225, 'Cycle': 19, 'Step': 90, 'TestTime': 2.0, 'StepTime': 1.0, 'Capacity': 18, 'Energy': 54, 'Current': 9.02, 'Voltage': 3.72, 'TesterTime': '2022-10-13T12:32:56'}\n",
      "{'FClass': 4, 'FNum': 7, 'Chan': 3, 'RF1': 0, 'RF2': 192, 'Stat': 0, 'LastRecNum': 4225, 'Cycle': 53, 'Step': 21, 'TestTime': 2.0, 'StepTime': 1.0, 'Capacity': 80, 'Energy': 55, 'Current': 6.38, 'Voltage': 3.44, 'TesterTime': '2022-10-13T12:32:56'}\n",
      "{'FClass': 4, 'FNum': 7, 'Chan': 3, 'RF1': 0, 'RF2': 192, 'Stat': 0, 'LastRecNum': 4225, 'Cycle': 59, 'Step': 52, 'TestTime': 2.0, 'StepTime': 1.0, 'Capacity': 75, 'Energy': 75, 'Current': 1.3, 'Voltage': 3.11, 'TesterTime': '2022-10-13T12:32:56'}\n",
      "{'FClass': 4, 'FNum': 7, 'Chan': 3, 'RF1': 0, 'RF2': 192, 'Stat': 0, 'LastRecNum': 4225, 'Cycle': 38, 'Step': 35, 'TestTime': 2.0, 'StepTime': 1.0, 'Capacity': 69, 'Energy': 3, 'Current': 2.99, 'Voltage': 3.77, 'TesterTime': '2022-10-13T12:32:56'}\n",
      "{'FClass': 4, 'FNum': 7, 'Chan': 3, 'RF1': 0, 'RF2': 192, 'Stat': 0, 'LastRecNum': 4225, 'Cycle': 52, 'Step': 17, 'TestTime': 2.0, 'StepTime': 1.0, 'Capacity': 64, 'Energy': 30, 'Current': 7.7, 'Voltage': 3.69, 'TesterTime': '2022-10-13T12:32:56'}\n"
     ]
    }
   ],
   "source": [
    "# Extend the reading using read_channel_status in a loop\n",
    "for data_point in channel_3_updated_status:\n",
    "    # print(\"Data point: \" + str(data_point)  + \"\\n  Updating channel status...  \")\n",
    "    result = maccor_spoofer.update_channel_status(\n",
    "        channel=(channel_3_interface.get_channel_number() - 1),  # On the server side channels are zero index.\n",
    "        updated_status=data_point\n",
    "    )\n",
    "    # print(\"Success = \" + str(result))\n",
    "    channel_3_status = channel_3_interface.read_channel_status()\n",
    "    print(channel_3_status)"
   ]
  },
  {
   "cell_type": "code",
   "execution_count": null,
   "metadata": {},
   "outputs": [],
   "source": []
  }
 ],
 "metadata": {
  "kernelspec": {
   "display_name": "base",
   "language": "python",
   "name": "python3"
  },
  "language_info": {
   "codemirror_mode": {
    "name": "ipython",
    "version": 3
   },
   "file_extension": ".py",
   "mimetype": "text/x-python",
   "name": "python",
   "nbconvert_exporter": "python",
   "pygments_lexer": "ipython3",
   "version": "3.11.5"
  }
 },
 "nbformat": 4,
 "nbformat_minor": 2
}
