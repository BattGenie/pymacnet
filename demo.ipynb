{
 "cells": [
  {
   "attachments": {},
   "cell_type": "markdown",
   "metadata": {},
   "source": [
    "Welcome to the `pymacnet` demo! Here we will walk through the basic functionality of the module. \n",
    "\n",
    "----\n",
    "\n",
    " Before we can talk to a Maccor cycler we must have a Maccor cycler to talk to. Testing software functionality on a real cycler is dangerous so we've created a submodule `maccorspoofer` to emulate some of the behavior of the Maccor software.  "
   ]
  },
  {
   "cell_type": "code",
   "execution_count": null,
   "metadata": {},
   "outputs": [],
   "source": [
    "import pymacnet\n",
    "import pymacnet.maccorspoofer"
   ]
  },
  {
   "attachments": {},
   "cell_type": "markdown",
   "metadata": {},
   "source": [
    "A `MaccorSpoofer` class instance requires a configuration dictionary to create:"
   ]
  },
  {
   "cell_type": "code",
   "execution_count": null,
   "metadata": {},
   "outputs": [],
   "source": [
    "maccorspoofer_config = {\n",
    "    \"server_ip\": \"127.0.0.1\", # The IP address to host on. \n",
    "    \"json_port\": 1234, # The JSON communication port.\n",
    "    \"tcp_port\": 5678,  # The TCP communication port.\n",
    "    \"num_channels\": 128 # The number of channels on our fake Maccor cycler.\n",
    "}\n",
    "maccor_spoofer = pymacnet.maccorspoofer.MaccorSpoofer(maccorspoofer_config)\n",
    "maccor_spoofer.start()"
   ]
  },
  {
   "attachments": {},
   "cell_type": "markdown",
   "metadata": {},
   "source": [
    "Wunderbar! Now let's start with creating a our `CyclerInterface` class instance. Like our `MaccorSpoofer`, a class instance of `CyclerInterface` requires a configuration dictionary on instantiation. The config values are as follows:\n",
    "\n",
    "- `server_ip` -> The IP address of the Maccor server. Use 127.0.0.1 if running on the same machine as the server.\n",
    "- `json_msg_port` -> The port to communicate through with JSON commands. Default set to 57570.\n",
    "- `bin_msg_port` -> The port to communicate through with binary commands. Default set to 57560.\n",
    "\n",
    "Note need to make sure the we have the same `server_ip`, `json_server_port`, and `tcp_server_port` specified for our `MaccorSpoofer` instance."
   ]
  },
  {
   "cell_type": "code",
   "execution_count": null,
   "metadata": {},
   "outputs": [],
   "source": [
    "cycler_interface_config = {\n",
    "    'server_ip': maccorspoofer_config['server_ip'],\n",
    "    'json_msg_port': maccorspoofer_config['json_port'],\n",
    "    'bin_msg_port': maccorspoofer_config['tcp_port'],\n",
    "    'msg_buffer_size_bytes': 4096\n",
    "}\n",
    "cycler_interface = pymacnet.CyclerInterface(cycler_interface_config)"
   ]
  },
  {
   "attachments": {},
   "cell_type": "markdown",
   "metadata": {},
   "source": [
    "The `CyclerInterface` allows us to get system wide information, like software version info:"
   ]
  },
  {
   "cell_type": "code",
   "execution_count": null,
   "metadata": {},
   "outputs": [],
   "source": [
    "cycler_interface.read_system_info()"
   ]
  },
  {
   "attachments": {},
   "cell_type": "markdown",
   "metadata": {},
   "source": [
    "Or general system infromation:"
   ]
  },
  {
   "cell_type": "code",
   "execution_count": null,
   "metadata": {},
   "outputs": [],
   "source": [
    "cycler_interface.read_general_info()"
   ]
  },
  {
   "attachments": {},
   "cell_type": "markdown",
   "metadata": {},
   "source": [
    "We can also use the `CyclerInterface` to read the status of all channels at once:"
   ]
  },
  {
   "cell_type": "code",
   "execution_count": null,
   "metadata": {},
   "outputs": [],
   "source": [
    "cycler_interface.read_all_channel_statuses()"
   ]
  },
  {
   "attachments": {},
   "cell_type": "markdown",
   "metadata": {},
   "source": [
    "Now that we've demonstrated how a the `CyclerInterface` works, we'll look at a `ChannelInterface` class instance. Like our `CyclerInterface`, a class instance of `ChannelInterface` requires a configuration dictionary on instantiation. Note that individual `ChannelInterface` instances work with a single channel. The config values are as follows:\n",
    "\n",
    "- `channel` -> The cycler channel to be targeted for all operations.\n",
    "- `test_name` -> The test name to be used if a test is started. If left blank, Maccor will generate a unique random name for any started tests. Note that Maccor requires unique test names for each test.\n",
    "- `test_procedure` -> The test procedure to be used, if starting a test with a procedure. Not needed with direct control.\n",
    "- `c_rate_ah` -> The capacity value to be referenced when setting \"C\" values within a Maccor schedule. Units of amp-hours. Ignored if not used anywhere in the test.\n",
    "- `v_max_safety_limit_v` -> Upper voltage safety limit for the channel. Units of volts.\n",
    "- `v_min_safety_limit_v` -> Lower voltage safety limit for the channel. Units of volts.\n",
    "- `i_max_safety_limit_a` -> Upper current safety limit for the channel. Units of amps.\n",
    "- `i_min_safety_limit_a` -> Lower current safety limit for the channel. Units of amps.\n",
    "- `v_max_v` -> Upper voltage limit used for charge/CV limits. Units of volts. Only used with direct control.\n",
    "- `v_min_v` -> Lower voltage limit used for discharge limit. Units of volts. Only used with direct control.\n",
    "- `data_record_time_s` -> How often data points are taken during direct control tests. Zero turns off. Used only for direct control.\n",
    "- `data_record_voltage_delta_vbys` -> The dV/dt at which data points are taken during direct control tests. Zero disables. Used only for direct control.\n",
    "- `data_record_current_delta_abys` -> The dI/dt at which data points are taken during direct control tests. Zero disables. Used only for direct control.\n",
    "- `server_ip` -> The IP address of the Maccor server. Use 127.0.0.1 if running on the same machine as the server.\n",
    "- `json_server_port` -> The port to communicate through with JSON commands. Default set to 57570.\n",
    "- `tcp_server_port` -> The port to communicate through with TCP commands. Default set to 57560."
   ]
  },
  {
   "cell_type": "code",
   "execution_count": null,
   "metadata": {},
   "outputs": [],
   "source": [
    "if 'cycler_interface' in globals():\n",
    "    del cycler_interface\n",
    "\n",
    "channel_interface_config_channel_1 = {\n",
    "    'server_ip': maccorspoofer_config['server_ip'],\n",
    "    'json_msg_port': maccorspoofer_config['json_port'],\n",
    "    'bin_msg_port': maccorspoofer_config['tcp_port'],\n",
    "    'msg_buffer_size_bytes': 4096,\n",
    "    'channel': 1,                               \n",
    "    'test_name': 'pymacnet_procedure_control', \n",
    "    'test_procedure': 'test_procedure_1',\n",
    "    'c_rate_ah': 1,\n",
    "    'v_max_safety_limit_v': 4.2,\n",
    "    'v_min_safety_limit_v': 2.9,\n",
    "    'i_max_safety_limit_a': 2.0,\n",
    "    'i_min_safety_limit_a': -2.0,\n",
    "    'v_max_v': 4.2,\n",
    "    'v_min_v': 3.0,\n",
    "    'data_record_time_s': 1,\n",
    "    'data_record_voltage_delta_vbys': 1,\n",
    "    'data_record_current_delta_abys': 1,\n",
    "}\n",
    "channel_1_interface = pymacnet.ChannelInterface(channel_interface_config_channel_1)"
   ]
  },
  {
   "attachments": {},
   "cell_type": "markdown",
   "metadata": {},
   "source": [
    "`ChannelInterface` is actually a child class of `CyclerInterface`, so we have all the same methods available to us:"
   ]
  },
  {
   "cell_type": "code",
   "execution_count": null,
   "metadata": {},
   "outputs": [],
   "source": [
    "channel_1_interface.read_general_info()"
   ]
  },
  {
   "attachments": {},
   "cell_type": "markdown",
   "metadata": {},
   "source": [
    "Great. Now that we have an interface for the channel we can start reading from and controlling the specific cycler channel. We'll start by reading the status, which gives relevant channel specific cycler readings:"
   ]
  },
  {
   "cell_type": "code",
   "execution_count": null,
   "metadata": {},
   "outputs": [],
   "source": [
    "channel_1_status = channel_1_interface.read_status()\n",
    "print(channel_1_status)"
   ]
  },
  {
   "attachments": {},
   "cell_type": "markdown",
   "metadata": {},
   "source": [
    "The `MaccorSpoofer` allows us to update readings on mocked channel as we see fit. This can be helpful for testing:"
   ]
  },
  {
   "cell_type": "code",
   "execution_count": null,
   "metadata": {},
   "outputs": [],
   "source": [
    "channel_1_updated_status = {'Voltage':3.72,'Current':0.00,'Cycle':5}\n",
    "result = maccor_spoofer.update_channel_status( \n",
    "    channel=(channel_1_interface.get_channel_number()-1), # On the server side channels are zero index.\n",
    "    updated_status=channel_1_updated_status\n",
    ")\n",
    "print(\"Success = \" + str(result))\n",
    "channel_1_status = channel_1_interface.read_status()\n",
    "print(channel_1_status)\n"
   ]
  },
  {
   "attachments": {},
   "cell_type": "markdown",
   "metadata": {},
   "source": [
    "We can also get auxiliary values in a similar fashion. Here we just get a list of the auxiliary readings:"
   ]
  },
  {
   "cell_type": "code",
   "execution_count": null,
   "metadata": {},
   "outputs": [],
   "source": [
    "channel_1_aux = channel_1_interface.read_aux()\n",
    "print(channel_1_aux)"
   ]
  },
  {
   "attachments": {},
   "cell_type": "markdown",
   "metadata": {},
   "source": [
    "Now if we wanted to start a test with the test procedure defined in the config we can do the following:"
   ]
  },
  {
   "cell_type": "code",
   "execution_count": null,
   "metadata": {},
   "outputs": [],
   "source": [
    "result = channel_1_interface.start_test_with_procedure()\n",
    "print(\"Success = \" + str(result))"
   ]
  },
  {
   "attachments": {},
   "cell_type": "markdown",
   "metadata": {},
   "source": [
    "Note there are many errors that can come up when trying to start a test and `MaccorSpoofer` does not cover all of the potential conflicts at this time. Be careful!\n",
    "\n",
    "Once a test is running we can continue to `read_status()` and do things like set channel variables. This can be used for cool things like setting variable charge and discharge current:"
   ]
  },
  {
   "cell_type": "code",
   "execution_count": null,
   "metadata": {},
   "outputs": [],
   "source": [
    "result = channel_1_interface.set_channel_variable(var_num = 1, var_value = 25)\n",
    "print(\"Success = \" + str(result))"
   ]
  },
  {
   "attachments": {},
   "cell_type": "markdown",
   "metadata": {},
   "source": [
    "The `MaccorInterface` also has methods to enable direct control which allows for controlling the cycler channel directly without a test procedure. **This is potentially very dangerous and should only be attempted if you know what you are doing and have thoroughly tested your code**. Details on the direct control methods can be found in the `docs/` directory"
   ]
  }
 ],
 "metadata": {
  "kernelspec": {
   "display_name": "base",
   "language": "python",
   "name": "python3"
  },
  "language_info": {
   "codemirror_mode": {
    "name": "ipython",
    "version": 3
   },
   "file_extension": ".py",
   "mimetype": "text/x-python",
   "name": "python",
   "nbconvert_exporter": "python",
   "pygments_lexer": "ipython3",
   "version": "3.10.6"
  },
  "orig_nbformat": 4,
  "vscode": {
   "interpreter": {
    "hash": "37d3672ce52f3e1f1f2f3a59125e30ae1cf6c358e7ce7c34ddf99ae5e2c107f4"
   }
  }
 },
 "nbformat": 4,
 "nbformat_minor": 2
}
